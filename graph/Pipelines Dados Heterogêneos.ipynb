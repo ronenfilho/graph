{
 "cells": [
  {
   "cell_type": "markdown",
   "metadata": {
    "id": "XRGypidCM8FX"
   },
   "source": [
    "# Tema: Pipelines de Extração, Transformação e Carga para o Relacionamento de Dados Heterogêneos\n",
    "\n",
    "- Uma Rede Complexa de Informações Com Notação Semântica\n",
    "- Estudo de Caso: Políticos do Brasil - Deputados Federais."
   ]
  },
  {
   "cell_type": "markdown",
   "metadata": {
    "id": "vbolI_liNv3Y"
   },
   "source": [
    "# Extração\n",
    "\n",
    "https://dadosabertos.camara.leg.br/swagger/api.html\n"
   ]
  },
  {
   "cell_type": "markdown",
   "metadata": {
    "id": "by8xCKBXN_ZH"
   },
   "source": [
    "## Deputados\n",
    "\n",
    "- Listagem e busca de deputados, segundo critérios"
   ]
  },
  {
   "cell_type": "code",
   "execution_count": null,
   "metadata": {
    "colab": {
     "base_uri": "https://localhost:8080/"
    },
    "executionInfo": {
     "elapsed": 4017,
     "status": "ok",
     "timestamp": 1749164909915,
     "user": {
      "displayName": "Ronen Filho",
      "userId": "17074429282374174426"
     },
     "user_tz": 180
    },
    "id": "SJt1JVZAM5w7",
    "outputId": "4c4262ff-c975-48eb-b13f-daa3a3587893"
   },
   "outputs": [
    {
     "name": "stdout",
     "output_type": "stream",
     "text": [
      "########################\n",
      "## Extração - Deputados ##\n",
      "########################\n",
      "[INFO] Página 1 processada com 674 deputados.\n",
      "[INFO] Arquivo CSV './dataset\\deputados_legisl_57.csv' salvo com sucesso!\n"
     ]
    }
   ],
   "source": [
    "import requests\n",
    "import pandas as pd\n",
    "import os\n",
    "\n",
    "def save_to_csv(data, filepath):\n",
    "    \"\"\"\n",
    "    Salva a lista de deputados em um arquivo CSV.\n",
    "    \"\"\"\n",
    "\n",
    "    df = pd.DataFrame(data)\n",
    "    df.to_csv(filepath, index=False, encoding=\"utf-8\")\n",
    "    print(f\"[INFO] Arquivo CSV '{filepath}' salvo com sucesso!\")\n",
    "\n",
    "def fetch_deputados(ordem=\"ASC\", ordenar_por=\"nome\", pagina=1, idLegislatura=57):\n",
    "    \"\"\"\n",
    "    Faz a requisição à API da Câmara e retorna a lista de deputados de uma página específica.\n",
    "    \"\"\"\n",
    "    url = f\"https://dadosabertos.camara.leg.br/api/v2/deputados?idLegislatura={idLegislatura}&ordem={ordem}&ordenarPor={ordenar_por}&pagina={pagina}\"\n",
    "    headers = {\n",
    "        \"accept\": \"application/json\"\n",
    "    }\n",
    "\n",
    "    try:\n",
    "        response = requests.get(url, headers=headers)\n",
    "        response.raise_for_status()\n",
    "        data = response.json()\n",
    "        return data.get(\"dados\", [])\n",
    "    except requests.RequestException as e:\n",
    "        print(f\"[ERRO] Falha na requisição: {e}\")\n",
    "        return []\n",
    "\n",
    "def fetch_all_deputados(idLegislatura=57):\n",
    "    \"\"\"\n",
    "    Faz a requisição de todas as páginas de deputados.\n",
    "    \"\"\"\n",
    "    deputados_total = []\n",
    "    pagina = 1\n",
    "\n",
    "    while True:\n",
    "        deputados = fetch_deputados(pagina=pagina, idLegislatura=idLegislatura)\n",
    "        if not deputados:\n",
    "            break\n",
    "\n",
    "        deputados_total.extend(deputados)\n",
    "        print(f\"[INFO] Página {pagina} processada com {len(deputados)} deputados.\")\n",
    "        pagina += 1\n",
    "\n",
    "    return deputados_total\n",
    "\n",
    "def extraction_deputado(directory):\n",
    "    '''Extração - Deputados Federais'''\n",
    "\n",
    "    print(\"########################\")\n",
    "    print(\"## Extração - Deputados ##\")\n",
    "    print(\"########################\")\n",
    "\n",
    "    idLegislatura = \"57\" # Legislatura atual\n",
    "\n",
    "    deputados = fetch_all_deputados(idLegislatura)\n",
    "    filepath = os.path.join(directory, \"deputados_legisl_\"+idLegislatura+\".csv\")\n",
    "    save_to_csv(deputados, filepath)\n",
    "\n",
    "def transformation_deputado():\n",
    "  '''Transformação - Deputados Federais'''\n",
    "  print(\"########################\")\n",
    "  print(\"## Transformação - Deputados ##\")\n",
    "  print(\"########################\")\n",
    "\n",
    "  return True\n",
    "\n",
    "def load_deputado():\n",
    "  '''Carga - Deputados Federais'''\n",
    "  print(\"########################\")\n",
    "  print(\"## Carga - Deputados ##\")\n",
    "  print(\"########################\")\n",
    "  return True\n",
    "\n",
    "if __name__ == \"__main__\":\n",
    "  # Defina o diretório onde os dados serão salvos. Para falta no Google Drive. \n",
    "  #directory = '/content/drive/MyDrive/1-Acadêmico/___IA - IFG - 2025/Disciplina/202501 - Linguagem de Programação Aplicada/_IFG - Ling. Programação - Projeto 1/dataset'\n",
    "\n",
    "  #Para falta localmente\n",
    "  directory = './dataset'\n",
    "\n",
    "  extraction_deputado(directory)\n",
    "  #transformation_deputado()\n",
    "  #load_deputado()\n",
    "\n",
    "  # Extração - Partidos\n",
    "\n"
   ]
  },
  {
   "cell_type": "markdown",
   "metadata": {
    "id": "65qAgHJazCTm"
   },
   "source": [
    "# Transformação\n"
   ]
  },
  {
   "cell_type": "code",
   "execution_count": 1,
   "metadata": {
    "colab": {
     "base_uri": "https://localhost:8080/"
    },
    "executionInfo": {
     "elapsed": 9715,
     "status": "ok",
     "timestamp": 1749756313491,
     "user": {
      "displayName": "Ronen Filho",
      "userId": "17074429282374174426"
     },
     "user_tz": 180
    },
    "id": "0HjLLn2cFz44",
    "outputId": "3974d745-2682-4501-a99f-ae03bff17e64"
   },
   "outputs": [
    {
     "name": "stdout",
     "output_type": "stream",
     "text": [
      "Defaulting to user installation because normal site-packages is not writeable\n",
      "Collecting rdflib\n",
      "  Downloading rdflib-7.1.4-py3-none-any.whl.metadata (11 kB)\n",
      "Requirement already satisfied: pyparsing<4,>=2.1.0 in c:\\users\\ronen\\appdata\\roaming\\python\\python312\\site-packages (from rdflib) (3.2.3)\n",
      "Downloading rdflib-7.1.4-py3-none-any.whl (565 kB)\n",
      "   ---------------------------------------- 0.0/565.1 kB ? eta -:--:--\n",
      "   ------------------------------------- -- 524.3/565.1 kB 5.6 MB/s eta 0:00:01\n",
      "   ---------------------------------------- 565.1/565.1 kB 1.8 MB/s eta 0:00:00\n",
      "Installing collected packages: rdflib\n",
      "Successfully installed rdflib-7.1.4\n"
     ]
    }
   ],
   "source": [
    "!pip install rdflib\n"
   ]
  },
  {
   "cell_type": "code",
   "execution_count": 2,
   "metadata": {
    "colab": {
     "base_uri": "https://localhost:8080/"
    },
    "executionInfo": {
     "elapsed": 18888,
     "status": "ok",
     "timestamp": 1749747739337,
     "user": {
      "displayName": "Ronen Filho",
      "userId": "17074429282374174426"
     },
     "user_tz": 180
    },
    "id": "8kmWcBv9Fuy_",
    "outputId": "a8bba3f3-b033-436d-ce78-29ca3259e0b0"
   },
   "outputs": [
    {
     "name": "stdout",
     "output_type": "stream",
     "text": [
      "Defaulting to user installation because normal site-packages is not writeable\n",
      "Collecting rdflib-neo4j\n",
      "  Downloading rdflib_neo4j-1.1-py3-none-any.whl.metadata (484 bytes)\n",
      "Requirement already satisfied: rdflib>=7.0.0 in c:\\users\\ronen\\appdata\\roaming\\python\\python312\\site-packages (from rdflib-neo4j) (7.1.4)\n",
      "Collecting neo4j>=5.0.0 (from rdflib-neo4j)\n",
      "  Downloading neo4j-5.28.1-py3-none-any.whl.metadata (5.9 kB)\n",
      "Requirement already satisfied: pytz in c:\\users\\ronen\\appdata\\roaming\\python\\python312\\site-packages (from neo4j>=5.0.0->rdflib-neo4j) (2025.2)\n",
      "Requirement already satisfied: pyparsing<4,>=2.1.0 in c:\\users\\ronen\\appdata\\roaming\\python\\python312\\site-packages (from rdflib>=7.0.0->rdflib-neo4j) (3.2.3)\n",
      "Downloading rdflib_neo4j-1.1-py3-none-any.whl (19 kB)\n",
      "Downloading neo4j-5.28.1-py3-none-any.whl (312 kB)\n",
      "Installing collected packages: neo4j, rdflib-neo4j\n",
      "\n",
      "   ---------------------------------------- 0/2 [neo4j]\n",
      "   ---------------------------------------- 0/2 [neo4j]\n",
      "   ---------------------------------------- 0/2 [neo4j]\n",
      "   ---------------------------------------- 0/2 [neo4j]\n",
      "   ---------------------------------------- 0/2 [neo4j]\n",
      "   ---------------------------------------- 0/2 [neo4j]\n",
      "   ---------------------------------------- 0/2 [neo4j]\n",
      "   ---------------------------------------- 0/2 [neo4j]\n",
      "   ---------------------------------------- 0/2 [neo4j]\n",
      "   ---------------------------------------- 0/2 [neo4j]\n",
      "   ---------------------------------------- 0/2 [neo4j]\n",
      "   ---------------------------------------- 0/2 [neo4j]\n",
      "   ---------------------------------------- 0/2 [neo4j]\n",
      "   ---------------------------------------- 0/2 [neo4j]\n",
      "   ---------------------------------------- 0/2 [neo4j]\n",
      "   ---------------------------------------- 0/2 [neo4j]\n",
      "   -------------------- ------------------- 1/2 [rdflib-neo4j]\n",
      "   -------------------- ------------------- 1/2 [rdflib-neo4j]\n",
      "   ---------------------------------------- 2/2 [rdflib-neo4j]\n",
      "\n",
      "Successfully installed neo4j-5.28.1 rdflib-neo4j-1.1\n"
     ]
    }
   ],
   "source": [
    "!pip install rdflib-neo4j\n"
   ]
  },
  {
   "cell_type": "code",
   "execution_count": null,
   "metadata": {
    "colab": {
     "base_uri": "https://localhost:8080/",
     "height": 551
    },
    "executionInfo": {
     "elapsed": 31524,
     "status": "error",
     "timestamp": 1749748319602,
     "user": {
      "displayName": "Ronen Filho",
      "userId": "17074429282374174426"
     },
     "user_tz": 180
    },
    "id": "jg7uEaFWzKKU",
    "outputId": "e190c3db-1f0a-4b30-edad-12886ca4d3d7"
   },
   "outputs": [
    {
     "name": "stderr",
     "output_type": "stream",
     "text": [
      "C:\\Users\\ronen\\AppData\\Roaming\\Python\\Python312\\site-packages\\rdflib\\plugins\\serializers\\nt.py:41: UserWarning: NTSerializer always uses UTF-8 encoding. Given encoding was: None\n",
      "  warnings.warn(\n"
     ]
    },
    {
     "name": "stdout",
     "output_type": "stream",
     "text": [
      "[INFO] Arquivo N-Triples './dataset\\deputados_legisl_57.nt' salvo com sucesso!\n",
      "Uniqueness constraint on :Resource(uri) found. \n",
      "                \n",
      "                \n",
      "The store is now: Open\n",
      "The store is now: Closed\n",
      "IMPORTED 5530 TRIPLES\n",
      "[INFO] Grafo RDF salvo com sucesso no Neo4j!\n"
     ]
    }
   ],
   "source": [
    "import pandas as pd\n",
    "from rdflib import Graph, Literal, RDF, URIRef, Namespace\n",
    "from rdflib.namespace import FOAF, XSD\n",
    "import os\n",
    "# from google.colab import userdata\n",
    "from rdflib_neo4j import Neo4jStore, Neo4jStoreConfig, HANDLE_VOCAB_URI_STRATEGY\n",
    "\n",
    "\n",
    "# Namespaces\n",
    "SCHEMA = Namespace(\"http://schema.org/\")\n",
    "POL = Namespace(\"http://purl.org/ontology/politico/\")\n",
    "BR = Namespace(\"https://dadosabertos.camara.leg.br/recurso/\")\n",
    "\n",
    "def load_deputados_csv(filepath): \n",
    "    \"\"\"\n",
    "    Carrega o CSV dos deputados em um DataFrame pandas.\n",
    "    \"\"\"\n",
    "    if not os.path.exists(filepath):\n",
    "        raise FileNotFoundError(f\"O arquivo {filepath} não foi encontrado!\")\n",
    "    return pd.read_csv(filepath)\n",
    "\n",
    "def create_rdf_graph():\n",
    "    \"\"\"\n",
    "    Inicializa e retorna um grafo RDF com prefixos.\n",
    "    \"\"\"\n",
    "    g = Graph()\n",
    "    g.bind(\"schema\", SCHEMA)\n",
    "    g.bind(\"pol\", POL)\n",
    "    g.bind(\"foaf\", FOAF)\n",
    "    g.bind(\"br\", BR)\n",
    "    return g\n",
    "\n",
    "def add_deputado_triples(g, row):\n",
    "    \"\"\"\n",
    "    Adiciona as triplas RDF de um deputado ao grafo,\n",
    "    representando partido e UF como nós (recursos).\n",
    "    \"\"\"\n",
    "    deputado_uri = URIRef(f\"https://dadosabertos.camara.leg.br/recurso/deputado/{row['id']}\")\n",
    "    partido_uri = URIRef(row['uriPartido'])\n",
    "    uf_uri = URIRef(f\"https://dadosabertos.camara.leg.br/recurso/uf/{row['siglaUf']}\")\n",
    "\n",
    "    # Deputado\n",
    "    g.add((deputado_uri, RDF.type, SCHEMA.Person))\n",
    "    g.add((deputado_uri, SCHEMA.name, Literal(row['nome'])))\n",
    "    g.add((deputado_uri, SCHEMA.memberOf, partido_uri))\n",
    "    g.add((deputado_uri, SCHEMA.addressRegion, uf_uri))\n",
    "    g.add((deputado_uri, SCHEMA.identifier, Literal(row['id'], datatype=XSD.integer)))\n",
    "    g.add((deputado_uri, FOAF.page, URIRef(row['uri'])))\n",
    "    g.add((deputado_uri, SCHEMA.image, URIRef(row['urlFoto'])))\n",
    "    g.add((deputado_uri, POL.legislatura, Literal(row['idLegislatura'], datatype=XSD.integer)))\n",
    "\n",
    "    if pd.notna(row.get('email')):\n",
    "        g.add((deputado_uri, SCHEMA.email, Literal(row['email'])))\n",
    "\n",
    "    # Nó Partido\n",
    "    g.add((partido_uri, RDF.type, SCHEMA.Organization))\n",
    "    g.add((partido_uri, SCHEMA.name, Literal(row['siglaPartido'])))\n",
    "\n",
    "    # Nó UF\n",
    "    g.add((uf_uri, RDF.type, SCHEMA.Place))\n",
    "    g.add((uf_uri, SCHEMA.name, Literal(row['siglaUf'])))\n",
    "\n",
    "def build_rdf_graph_from_dataframe(df):\n",
    "    \"\"\"\n",
    "    Cria e retorna o grafo RDF completo a partir do DataFrame.\n",
    "    \"\"\"\n",
    "    g = create_rdf_graph()\n",
    "    for _, row in df.iterrows():\n",
    "        add_deputado_triples(g, row)\n",
    "    return g\n",
    "\n",
    "def save_graph_as_nt(g, output_path):\n",
    "    \"\"\"\n",
    "    Salva o grafo RDF em formato N-Triples.\n",
    "    \"\"\"\n",
    "    g.serialize(destination=output_path, format=\"nt\")\n",
    "    print(f\"[INFO] Arquivo N-Triples '{output_path}' salvo com sucesso!\")\n",
    "\n",
    "def connect_neo4j(uri=\"bolt://192.168.0.48:7687\", user=\"neo4j\", password=\"Adsumus@9\", database=\"neo4j\"):\n",
    "    \"\"\"\n",
    "    Conecta ao banco Neo4j usando rdflib-neo4j e retorna a store.\n",
    "    \"\"\"\n",
    "    config = Neo4jStoreConfig(\n",
    "        auth_data={\"uri\": uri, \"user\": user, \"pwd\": password, \"database\": database},\n",
    "        handle_vocab_uri_strategy=HANDLE_VOCAB_URI_STRATEGY.MAP,\n",
    "        batching=True\n",
    "    )\n",
    "    return Neo4jStore(config=config)\n",
    "\n",
    "def save_graph_to_neo4j(original_graph):\n",
    "    \"\"\"\n",
    "    Salva o grafo RDF diretamente no Neo4j usando rdflib-neo4j.\n",
    "    \"\"\"\n",
    "    config = Neo4jStoreConfig(\n",
    "        auth_data={\n",
    "            \"uri\": \"bolt://192.168.0.48:7687\",\n",
    "            \"user\": \"neo4j\",\n",
    "            \"pwd\": \"Adsumus@9\",\n",
    "            \"database\": \"neo4j\"\n",
    "        },\n",
    "        # Estratégia para lidar com URIs de vocabulário\n",
    "        # Se você quiser ignorar URIs de vocabulário, use IGNORE\n",
    "        # Se você quiser manter URIs de vocabulário como estão, use RAW\n",
    "        # handle_vocab_uri_strategy=HANDLE_VOCAB_URI_STRATEGY.IGNORE,\n",
    "        handle_vocab_uri_strategy=HANDLE_VOCAB_URI_STRATEGY.MAP,\n",
    "\n",
    "        batching=True\n",
    "    )\n",
    "\n",
    "    store = Neo4jStore(config=config)\n",
    "    g = Graph(store=store)\n",
    "    g += original_graph\n",
    "    g.commit()\n",
    "    g.close()\n",
    "    print(\"[INFO] Grafo RDF salvo com sucesso no Neo4j!\")\n",
    "\n",
    "\n",
    "def main():\n",
    "    \"\"\"\n",
    "    Fluxo completo: carrega CSV, cria grafo RDF e salva N-Triples.\n",
    "    \"\"\"\n",
    "\n",
    "    idLegislatura = \"57\" # Legislatura atual'\n",
    "\n",
    "    #directory = '/content/drive/MyDrive/1-Acadêmico/___IA - IFG - 2025/Disciplina/202501 - Linguagem de Programação Aplicada/_IFG - Ling. Programação - Projeto 1/dataset'\n",
    "    filepath = os.path.join(directory, \"deputados_legisl_\"+idLegislatura+\".csv\")\n",
    "\n",
    "    csv_path = os.path.join(directory, \"deputados_legisl_\"+idLegislatura+\".csv\")\n",
    "    output_path = os.path.join(directory, \"deputados_legisl_\"+idLegislatura+\".nt\")\n",
    "\n",
    "    df = load_deputados_csv(csv_path)\n",
    "    g = build_rdf_graph_from_dataframe(df)\n",
    "\n",
    "    # Salva como .nt\n",
    "    save_graph_as_nt(g, output_path)\n",
    "\n",
    "    # Salva no Neo4j\n",
    "    save_graph_to_neo4j(g)\n",
    "\n",
    "if __name__ == \"__main__\":\n",
    "    main()\n"
   ]
  },
  {
   "cell_type": "markdown",
   "metadata": {
    "id": "144z8Pn71-HJ"
   },
   "source": [
    "# Carga\n"
   ]
  },
  {
   "cell_type": "code",
   "execution_count": null,
   "metadata": {
    "colab": {
     "base_uri": "https://localhost:8080/",
     "height": 397
    },
    "executionInfo": {
     "elapsed": 317,
     "status": "error",
     "timestamp": 1749756087096,
     "user": {
      "displayName": "Ronen Filho",
      "userId": "17074429282374174426"
     },
     "user_tz": 180
    },
    "id": "l2pcIA811_-8",
    "outputId": "ef79263c-ae15-4210-89af-fa408fee8c62"
   },
   "outputs": [
    {
     "ename": "ModuleNotFoundError",
     "evalue": "No module named 'rdflib'",
     "output_type": "error",
     "traceback": [
      "\u001b[0;31m---------------------------------------------------------------------------\u001b[0m",
      "\u001b[0;31mModuleNotFoundError\u001b[0m                       Traceback (most recent call last)",
      "\u001b[0;32m<ipython-input-1-4104776211>\u001b[0m in \u001b[0;36m<cell line: 0>\u001b[0;34m()\u001b[0m\n\u001b[0;32m----> 1\u001b[0;31m \u001b[0;32mfrom\u001b[0m \u001b[0mrdflib\u001b[0m \u001b[0;32mimport\u001b[0m \u001b[0mGraph\u001b[0m\u001b[0;34m\u001b[0m\u001b[0;34m\u001b[0m\u001b[0m\n\u001b[0m\u001b[1;32m      2\u001b[0m \u001b[0;32mimport\u001b[0m \u001b[0mnetworkx\u001b[0m \u001b[0;32mas\u001b[0m \u001b[0mnx\u001b[0m\u001b[0;34m\u001b[0m\u001b[0;34m\u001b[0m\u001b[0m\n\u001b[1;32m      3\u001b[0m \u001b[0;32mimport\u001b[0m \u001b[0mmatplotlib\u001b[0m\u001b[0;34m.\u001b[0m\u001b[0mpyplot\u001b[0m \u001b[0;32mas\u001b[0m \u001b[0mplt\u001b[0m\u001b[0;34m\u001b[0m\u001b[0;34m\u001b[0m\u001b[0m\n\u001b[1;32m      4\u001b[0m \u001b[0;34m\u001b[0m\u001b[0m\n\u001b[1;32m      5\u001b[0m \u001b[0;32mdef\u001b[0m \u001b[0mload_rdf_graph\u001b[0m\u001b[0;34m(\u001b[0m\u001b[0mnt_file\u001b[0m\u001b[0;34m)\u001b[0m\u001b[0;34m:\u001b[0m\u001b[0;34m\u001b[0m\u001b[0;34m\u001b[0m\u001b[0m\n",
      "\u001b[0;31mModuleNotFoundError\u001b[0m: No module named 'rdflib'",
      "",
      "\u001b[0;31m---------------------------------------------------------------------------\u001b[0;32m\nNOTE: If your import is failing due to a missing package, you can\nmanually install dependencies using either !pip or !apt.\n\nTo view examples of installing some common dependencies, click the\n\"Open Examples\" button below.\n\u001b[0;31m---------------------------------------------------------------------------\u001b[0m\n"
     ]
    }
   ],
   "source": [
    "from rdflib import Graph\n",
    "import networkx as nx\n",
    "import matplotlib.pyplot as plt\n",
    "\n",
    "def load_rdf_graph(nt_file):\n",
    "    \"\"\"\n",
    "    Carrega o arquivo N-Triples em um grafo RDFLib.\n",
    "    \"\"\"\n",
    "    g = Graph()\n",
    "    g.parse(nt_file, format=\"nt\")\n",
    "    print(f\"[INFO] Grafo RDF carregado com {len(g)} triplas.\")\n",
    "    return g\n",
    "\n",
    "def convert_to_networkx(rdf_graph):\n",
    "    \"\"\"\n",
    "    Converte grafo RDFLib em grafo NetworkX para visualização.\n",
    "    \"\"\"\n",
    "    nx_graph = nx.DiGraph()\n",
    "    for s, p, o in rdf_graph:\n",
    "        s_label = str(s)\n",
    "        p_label = str(p.split(\"/\")[-1])\n",
    "        o_label = str(o)\n",
    "        nx_graph.add_edge(s_label, o_label, label=p_label)\n",
    "    return nx_graph\n",
    "\n",
    "def plot_graph(nx_graph, title=\"Visualização do Grafo RDF\"):\n",
    "    \"\"\"\n",
    "    Plota o grafo com Matplotlib.\n",
    "    \"\"\"\n",
    "    pos = nx.spring_layout(nx_graph, seed=42)\n",
    "    plt.figure(figsize=(15, 10))\n",
    "    nx.draw(nx_graph, pos, with_labels=True, node_size=2000, node_color=\"lightblue\", font_size=8, font_weight=\"bold\", edge_color=\"gray\")\n",
    "    edge_labels = nx.get_edge_attributes(nx_graph, 'label')\n",
    "    nx.draw_networkx_edge_labels(nx_graph, pos, edge_labels=edge_labels, font_size=7)\n",
    "    plt.title(title)\n",
    "    plt.axis(\"off\")\n",
    "    plt.show()\n",
    "\n",
    "def filter_graph_for_deputado(rdf_graph, deputado_id):\n",
    "    \"\"\"\n",
    "    Filtra o grafo RDF para incluir apenas as triplas relacionadas a um deputado específico.\n",
    "    \"\"\"\n",
    "    deputado_uri = URIRef(f\"https://dadosabertos.camara.leg.br/recurso/deputado/{deputado_id}\")\n",
    "    filtered_graph = Graph()\n",
    "    for s, p, o in rdf_graph:\n",
    "        if s == deputado_uri:\n",
    "            filtered_graph.add((s, p, o))\n",
    "            #print(f\"[INFO] Tripla adicionada: {s} {p} {o}\")\n",
    "            #print(f\"[INFO] Grafo filtrado com {len(filtered_graph)} triplas.\")\n",
    "    return filtered_graph\n",
    "\n",
    "def main():\n",
    "    #directory = '/content/drive/MyDrive/1-Acadêmico/___IA - IFG - 2025/Disciplina/202501 - Linguagem de Programação Aplicada/_IFG - Ling. Programação - Projeto 1/dataset'\n",
    "    nt_file = os.path.join(directory, \"deputados_legisl_57.nt\")\n",
    "    deputado_id = 204445  # ID de Abílio Santana\n",
    "    rdf_graph = load_rdf_graph(nt_file)\n",
    "    filtered_graph = filter_graph_for_deputado(rdf_graph, deputado_id)\n",
    "    nx_graph = convert_to_networkx(filtered_graph)\n",
    "    plot_graph(nx_graph, title=\"Deputado: Fernando Mineiro\")\n",
    "\n",
    "if __name__ == \"__main__\":\n",
    "    main()\n"
   ]
  }
 ],
 "metadata": {
  "colab": {
   "authorship_tag": "ABX9TyNbsVJnlzGVSfJQjDA/Fb/f",
   "mount_file_id": "1gLNF-E7qEMz-S6P_IvxjsunV84yHk34l",
   "provenance": []
  },
  "kernelspec": {
   "display_name": "Python 3",
   "name": "python3"
  },
  "language_info": {
   "codemirror_mode": {
    "name": "ipython",
    "version": 3
   },
   "file_extension": ".py",
   "mimetype": "text/x-python",
   "name": "python",
   "nbconvert_exporter": "python",
   "pygments_lexer": "ipython3",
   "version": "3.12.6"
  }
 },
 "nbformat": 4,
 "nbformat_minor": 0
}
